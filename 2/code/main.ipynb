{
 "cells": [
  {
   "cell_type": "code",
   "execution_count": 1,
   "metadata": {},
   "outputs": [],
   "source": [
    "import numpy as np\n",
    "from scipy import ndimage\n",
    "from scipy.signal import convolve2d\n",
    "import skimage as sk\n",
    "import skimage.io as skio\n",
    "import skimage.transform as sktr\n",
    "import matplotlib.pyplot as plt\n",
    "import matplotlib\n",
    "import cv2\n",
    "import math"
   ]
  },
  {
   "cell_type": "code",
   "execution_count": 2,
   "metadata": {},
   "outputs": [],
   "source": [
    "matplotlib.use('Agg')"
   ]
  },
  {
   "cell_type": "markdown",
   "metadata": {},
   "source": [
    "# Part 1: Fun With Filters"
   ]
  },
  {
   "cell_type": "markdown",
   "metadata": {},
   "source": [
    "## Part 1.1: Finite Difference Operator"
   ]
  },
  {
   "cell_type": "code",
   "execution_count": 52,
   "metadata": {},
   "outputs": [],
   "source": [
    "cameraman = skio.imread(\"../media/cameraman.png\", as_gray=True)\n",
    "cameraman = sk.img_as_float(cameraman)\n",
    "\n",
    "d_x, d_y = np.array([1, -1]).reshape((1, 2)), np.array([1, -1]).reshape((2, 1))\n",
    "\n",
    "camera_x, camera_y = convolve2d(cameraman, d_x, mode='same', boundary='symm'), convolve2d(cameraman, d_y, mode='same', boundary='symm')"
   ]
  },
  {
   "cell_type": "code",
   "execution_count": 53,
   "metadata": {},
   "outputs": [],
   "source": [
    "gradient_mag_img = np.sqrt(np.power(camera_x, 2) + np.power(camera_y, 2))"
   ]
  },
  {
   "cell_type": "markdown",
   "metadata": {},
   "source": [
    "#### Binarize the gradient magnitude image"
   ]
  },
  {
   "cell_type": "code",
   "execution_count": 55,
   "metadata": {},
   "outputs": [],
   "source": [
    "gradient_mag_copy = gradient_mag_img.flatten().copy()\n",
    "mean, std = np.mean(gradient_mag_copy), np.std(gradient_mag_copy)\n",
    "\n",
    "gradient_mag_copy = (gradient_mag_copy > (mean + (2.9 * std))).astype(np.float32)\n",
    "gradient_mag_copy = gradient_mag_copy.reshape(542, 540)\n"
   ]
  },
  {
   "cell_type": "code",
   "execution_count": 56,
   "metadata": {},
   "outputs": [],
   "source": [
    "fig, axes = plt.subplots(1, 4, figsize=(8, 6))\n",
    "\n",
    "axes[0].imshow(camera_x, cmap=\"gray\")\n",
    "axes[0].axis('off')\n",
    "axes[0].set_title(\"d/dx\")\n",
    "\n",
    "axes[1].imshow(camera_y, cmap=\"gray\")\n",
    "axes[1].axis('off')\n",
    "axes[1].set_title(\"d/dy\")\n",
    "\n",
    "axes[2].imshow(gradient_mag_img, cmap=\"gray\")\n",
    "axes[2].axis('off')\n",
    "axes[2].set_title(\"Gradient Magnitude Image\")\n",
    "\n",
    "axes[3].imshow(gradient_mag_copy, cmap=\"gray\")\n",
    "axes[3].axis('off')\n",
    "axes[3].set_title(\"Gradient Magnitude Image Binarized\")\n",
    "\n",
    "plt.tight_layout()\n",
    "plt.axis(\"off\")\n",
    "plt.show()"
   ]
  },
  {
   "cell_type": "markdown",
   "metadata": {},
   "source": [
    "## Part 1.2: Derivative Theorem of Convolution"
   ]
  },
  {
   "cell_type": "code",
   "execution_count": 57,
   "metadata": {},
   "outputs": [],
   "source": [
    "gaussian_oned = cv2.getGaussianKernel(ksize=5, sigma=1)\n",
    "gaussian_twod = np.dot(gaussian_oned, gaussian_oned.T)"
   ]
  },
  {
   "cell_type": "markdown",
   "metadata": {},
   "source": [
    "### Convolve the 2D Gaussian w/ image first, and then take the x & y derivatives of said image"
   ]
  },
  {
   "cell_type": "code",
   "execution_count": 58,
   "metadata": {},
   "outputs": [],
   "source": [
    "blurred_cameraman = convolve2d(cameraman, gaussian_twod, mode='same', boundary='symm')\n",
    "\n",
    "blurred_camera_x, blurred_camera_y = convolve2d(blurred_cameraman, d_x, mode='same', boundary='symm'), convolve2d(blurred_cameraman, d_y, mode='same', boundary='symm')\n",
    "gradient_mag_img_blurred = np.sqrt(np.power(blurred_camera_x, 2) + np.power(blurred_camera_y, 2))"
   ]
  },
  {
   "cell_type": "markdown",
   "metadata": {},
   "source": [
    "#### Take the x & y derivatives of the 2D Gaussian first and then convolve that with the image "
   ]
  },
  {
   "cell_type": "code",
   "execution_count": 59,
   "metadata": {},
   "outputs": [],
   "source": [
    "gaussian_der_x, gaussian_der_y = convolve2d(gaussian_twod, d_x, mode='same', boundary='symm'), convolve2d(gaussian_twod, d_y, mode='same', boundary='symm')"
   ]
  },
  {
   "cell_type": "code",
   "execution_count": 60,
   "metadata": {},
   "outputs": [],
   "source": [
    "blurred_camera_x_2, blurred_camera_y_2 = convolve2d(cameraman, gaussian_der_x, mode='same', boundary='symm'), convolve2d(cameraman, gaussian_der_y, mode='same', boundary='symm')\n",
    "gradient_mag_img_blurred_DoG = np.sqrt(np.power(blurred_camera_x_2, 2) + np.power(blurred_camera_y_2, 2))"
   ]
  },
  {
   "cell_type": "code",
   "execution_count": 61,
   "metadata": {},
   "outputs": [],
   "source": [
    "fig, axes = plt.subplots(1, 2, figsize=(8, 6))\n",
    "\n",
    "axes[0].imshow(gradient_mag_img_blurred, cmap=\"gray\")\n",
    "axes[0].axis('off')\n",
    "axes[0].set_title(\"(d/dx)(h * f) + (d/dy)(h * f)\")\n",
    "\n",
    "axes[1].imshow(gradient_mag_img_blurred_DoG, cmap=\"gray\")\n",
    "axes[1].axis('off')\n",
    "axes[1].set_title(\"((d/dx)(h) * f) + ((d/dy)(h) * f) -- DoG\")\n",
    "\n",
    "plt.tight_layout()\n",
    "plt.axis(\"off\")\n",
    "plt.show()"
   ]
  },
  {
   "cell_type": "markdown",
   "metadata": {},
   "source": [
    "# Part 2: Fun with Frequencies"
   ]
  },
  {
   "cell_type": "markdown",
   "metadata": {},
   "source": [
    "## Part 2.1: Image \"Sharpening\""
   ]
  },
  {
   "cell_type": "markdown",
   "metadata": {},
   "source": [
    "### Taj Mahal Picture"
   ]
  },
  {
   "cell_type": "code",
   "execution_count": 39,
   "metadata": {},
   "outputs": [],
   "source": [
    "taj = skio.imread(\"../media/taj.jpg\")\n",
    "taj = sk.img_as_float(taj)\n",
    "\n",
    "plt.title(\"Regular Image\")\n",
    "plt.imshow(taj)\n",
    "plt.show()"
   ]
  },
  {
   "cell_type": "code",
   "execution_count": 40,
   "metadata": {},
   "outputs": [],
   "source": [
    "def manipulate_image(pic, gaussian, operation=None, alpha=2):\n",
    "    new_img = pic.copy()\n",
    "\n",
    "    for channel in range(3):\n",
    "        color = pic[:, :, channel]\n",
    "        blurred_color = convolve2d(color, gaussian, mode=\"same\", boundary=\"symm\")\n",
    "\n",
    "        if operation == 'blur':\n",
    "            new_img[:, :, channel] = blurred_color\n",
    "        elif operation == 'sharpen':\n",
    "            details = color - blurred_color\n",
    "            new_img[:, :, channel] = color + alpha * details\n",
    "    \n",
    "    return new_img\n",
    "    "
   ]
  },
  {
   "cell_type": "code",
   "execution_count": 42,
   "metadata": {},
   "outputs": [],
   "source": [
    "blurred_taj = manipulate_image(taj, gaussian=gaussian_twod, operation=\"blur\")\n",
    "\n",
    "plt.title(\"Blurred Image\")\n",
    "plt.axis('off')\n",
    "plt.imshow(blurred_taj)\n",
    "plt.show()"
   ]
  },
  {
   "cell_type": "code",
   "execution_count": 43,
   "metadata": {},
   "outputs": [
    {
     "name": "stderr",
     "output_type": "stream",
     "text": [
      "Clipping input data to the valid range for imshow with RGB data ([0..1] for floats or [0..255] for integers).\n"
     ]
    }
   ],
   "source": [
    "sharpened_taj = manipulate_image(taj, gaussian=gaussian_twod, operation=\"sharpen\", alpha=4)\n",
    "\n",
    "plt.title(\"Sharpened Image, alpha=4\")\n",
    "plt.axis(\"off\")\n",
    "plt.imshow(sharpened_taj)\n",
    "plt.show()"
   ]
  },
  {
   "cell_type": "markdown",
   "metadata": {},
   "source": [
    "### Extra Images"
   ]
  },
  {
   "cell_type": "code",
   "execution_count": 48,
   "metadata": {},
   "outputs": [],
   "source": [
    "porsche, mansion = skio.imread(\"../media/porsche.jpg\"), skio.imread(\"../media/mansion.jpg\")\n",
    "porsche, mansion = sk.img_as_float(porsche), sk.img_as_float(mansion)"
   ]
  },
  {
   "cell_type": "code",
   "execution_count": 49,
   "metadata": {},
   "outputs": [
    {
     "name": "stderr",
     "output_type": "stream",
     "text": [
      "Clipping input data to the valid range for imshow with RGB data ([0..1] for floats or [0..255] for integers).\n",
      "Clipping input data to the valid range for imshow with RGB data ([0..1] for floats or [0..255] for integers).\n"
     ]
    }
   ],
   "source": [
    "sharpened_porsche, sharpened_mansion = manipulate_image(porsche, gaussian=gaussian_twod, operation=\"sharpen\", alpha=10), manipulate_image(mansion, gaussian=gaussian_twod, operation=\"sharpen\", alpha=10)\n",
    "plt.title(\"Sharpened Porsche Image\")\n",
    "\n",
    "fig, axes = plt.subplots(1, 4, figsize=(8, 6))\n",
    "\n",
    "axes[0].imshow(porsche)\n",
    "axes[0].axis('off')\n",
    "axes[0].set_title(\"Regular Porsche\")\n",
    "\n",
    "axes[1].imshow(sharpened_porsche)\n",
    "axes[1].axis('off')\n",
    "axes[1].set_title(\"Sharpened Porsche, alpha=10\")\n",
    "\n",
    "axes[2].imshow(mansion)\n",
    "axes[2].axis('off')\n",
    "axes[2].set_title(\"Regular Mansion\")\n",
    "\n",
    "axes[3].imshow(sharpened_mansion)\n",
    "axes[3].axis('off')\n",
    "axes[3].set_title(\"Sharpened Mansion, alpha=10\")\n",
    "\n",
    "plt.tight_layout()\n",
    "plt.axis(\"off\")\n",
    "plt.show()"
   ]
  },
  {
   "cell_type": "markdown",
   "metadata": {},
   "source": [
    "## Part 2.2: Hybrid Images"
   ]
  },
  {
   "cell_type": "markdown",
   "metadata": {},
   "source": [
    "### Align Images Starter Code"
   ]
  },
  {
   "cell_type": "code",
   "execution_count": 21,
   "metadata": {},
   "outputs": [],
   "source": [
    "def get_points(im1, im2):\n",
    "    original_backend = plt.get_backend()\n",
    "    plt.switch_backend(\"qtagg\")\n",
    "    print('Please select 2 points in each image for alignment.')\n",
    "    plt.imshow(im1)\n",
    "    p1, p2 = plt.ginput(2)\n",
    "    plt.close()\n",
    "    plt.imshow(im2)\n",
    "    p3, p4 = plt.ginput(2)\n",
    "    plt.close()\n",
    "    # plt.switch_backend(original_backend)\n",
    "    return (p1, p2, p3, p4)\n",
    "\n",
    "def recenter(im, r, c):\n",
    "    R, C, _ = im.shape\n",
    "    rpad = (int) (np.abs(2*r+1 - R))\n",
    "    cpad = (int) (np.abs(2*c+1 - C))\n",
    "    return np.pad(\n",
    "        im, [(0 if r > (R-1)/2 else rpad, 0 if r < (R-1)/2 else rpad),\n",
    "             (0 if c > (C-1)/2 else cpad, 0 if c < (C-1)/2 else cpad),\n",
    "             (0, 0)], 'constant')\n",
    "\n",
    "def find_centers(p1, p2):\n",
    "    cx = np.round(np.mean([p1[0], p2[0]]))\n",
    "    cy = np.round(np.mean([p1[1], p2[1]]))\n",
    "    return cx, cy\n",
    "\n",
    "def align_image_centers(im1, im2, pts):\n",
    "    p1, p2, p3, p4 = pts\n",
    "    h1, w1, b1 = im1.shape\n",
    "    h2, w2, b2 = im2.shape\n",
    "    \n",
    "    cx1, cy1 = find_centers(p1, p2)\n",
    "    cx2, cy2 = find_centers(p3, p4)\n",
    "\n",
    "    im1 = recenter(im1, cy1, cx1)\n",
    "    im2 = recenter(im2, cy2, cx2)\n",
    "    return im1, im2\n",
    "\n",
    "def rescale_images(im1, im2, pts):\n",
    "    p1, p2, p3, p4 = pts\n",
    "    len1 = np.sqrt((p2[1] - p1[1])**2 + (p2[0] - p1[0])**2) # distance between first pair of eyes\n",
    "    len2 = np.sqrt((p4[1] - p3[1])**2 + (p4[0] - p3[0])**2) # distance between second pair of eyes\n",
    "    dscale = len2/len1\n",
    "    if dscale < 1: # distance between first pair is more\n",
    "        im1 = sktr.rescale(im1, (dscale, dscale, 1)) \n",
    "    else: # distance between second pair is more\n",
    "        im2 = sktr.rescale(im2, (1./dscale, 1./dscale, 1))\n",
    "    return im1, im2\n",
    "\n",
    "def rotate_im1(im1, im2, pts):\n",
    "    p1, p2, p3, p4 = pts\n",
    "    theta1 = math.atan2(-(p2[1] - p1[1]), (p2[0] - p1[0]))\n",
    "    theta2 = math.atan2(-(p4[1] - p3[1]), (p4[0] - p3[0]))\n",
    "    dtheta = theta2 - theta1\n",
    "    im1 = sktr.rotate(im1, dtheta*180/np.pi)\n",
    "    return im1, dtheta\n",
    "\n",
    "def match_img_size(im1, im2):\n",
    "    # Make images the same size\n",
    "    h1, w1, c1 = im1.shape\n",
    "    h2, w2, c2 = im2.shape\n",
    "    if h1 < h2:\n",
    "        im2 = im2[int(np.floor((h2-h1)/2.)) : -int(np.ceil((h2-h1)/2.)), :, :]\n",
    "    elif h1 > h2:\n",
    "        im1 = im1[int(np.floor((h1-h2)/2.)) : -int(np.ceil((h1-h2)/2.)), :, :]\n",
    "    if w1 < w2:\n",
    "        im2 = im2[:, int(np.floor((w2-w1)/2.)) : -int(np.ceil((w2-w1)/2.)), :]\n",
    "    elif w1 > w2:\n",
    "        im1 = im1[:, int(np.floor((w1-w2)/2.)) : -int(np.ceil((w1-w2)/2.)), :]\n",
    "    assert im1.shape == im2.shape\n",
    "    return im1, im2\n",
    "\n",
    "def align_images(im1, im2):\n",
    "    pts = get_points(im1, im2) # points that are selected\n",
    "    im1, im2 = align_image_centers(im1, im2, pts)\n",
    "    im1, im2 = rescale_images(im1, im2, pts)\n",
    "    im1, angle = rotate_im1(im1, im2, pts)\n",
    "    im1, im2 = match_img_size(im1, im2)\n",
    "    return im1, im2"
   ]
  },
  {
   "cell_type": "markdown",
   "metadata": {},
   "source": [
    "#### 2.2.1: Creating sets of Hybrid Pictures"
   ]
  },
  {
   "cell_type": "code",
   "execution_count": 86,
   "metadata": {},
   "outputs": [
    {
     "name": "stdout",
     "output_type": "stream",
     "text": [
      "Please select 2 points in each image for alignment.\n"
     ]
    },
    {
     "name": "stderr",
     "output_type": "stream",
     "text": [
      "Clipping input data to the valid range for imshow with RGB data ([0..1] for floats or [0..255] for integers).\n"
     ]
    },
    {
     "name": "stdout",
     "output_type": "stream",
     "text": [
      "Please select 2 points in each image for alignment.\n"
     ]
    },
    {
     "name": "stderr",
     "output_type": "stream",
     "text": [
      "Clipping input data to the valid range for imshow with RGB data ([0..1] for floats or [0..255] for integers).\n"
     ]
    },
    {
     "name": "stdout",
     "output_type": "stream",
     "text": [
      "Please select 2 points in each image for alignment.\n"
     ]
    },
    {
     "name": "stderr",
     "output_type": "stream",
     "text": [
      "Clipping input data to the valid range for imshow with RGB data ([0..1] for floats or [0..255] for integers).\n"
     ]
    }
   ],
   "source": [
    "image_sets = [\n",
    "    (\"../media/hybrid/DerekPicture.jpg\", \"../media/hybrid/nutmeg.jpg\", 50, 20),\n",
    "    (\"../media/hybrid/bhatia.png\", \"../media/hybrid/praneet.png\", 50, 20),\n",
    "    (\"../media/hybrid/deepika.jpeg\", \"../media/hybrid/jessica.jpg\", 50, 20)\n",
    "]\n",
    "\n",
    "images_for_fft = {\n",
    "    \"Picture 1\": None,\n",
    "    \"Picture 2\": None,\n",
    "    \"Picture 1 Low-Frequency\": None,\n",
    "    \"Picture 2 High-Frequency\": None,\n",
    "    \"Hybrid Image\": None\n",
    "}\n",
    "\n",
    "for i, tup in enumerate(image_sets):\n",
    "    \n",
    "    pic1, pic2 = skio.imread(tup[0]), skio.imread(tup[1])\n",
    "    \n",
    "    gaussian_hybrid = cv2.getGaussianKernel(ksize=tup[2], sigma=tup[3])\n",
    "\n",
    "    pic1_aligned, pic2_aligned = align_images(pic1, pic2)\n",
    "\n",
    "    pic1_blurred = manipulate_image(pic1_aligned, gaussian=gaussian_hybrid, operation=\"blur\")\n",
    "    pic2_blurred = manipulate_image(pic2_aligned, gaussian=gaussian_hybrid, operation=\"blur\")\n",
    "\n",
    "    pic2_high_freq = pic2_aligned - (pic2_blurred * 0.5)\n",
    "\n",
    "    hybrid_image = np.clip(pic1_blurred + pic2_high_freq, 0, 255)\n",
    "\n",
    "    if i == 1:\n",
    "        images_for_fft[\"Picture 1\"] = pic1\n",
    "        images_for_fft[\"Picture 2\"] = pic2\n",
    "        images_for_fft[\"Picture 1 Low-Frequency\"] = pic1_blurred\n",
    "        images_for_fft[\"Picture 2 High-Frequency\"] = pic2_high_freq\n",
    "        images_for_fft[\"Hybrid Image\"] = hybrid_image\n",
    "\n",
    "    plt.imshow(hybrid_image)\n",
    "    plt.show()"
   ]
  },
  {
   "cell_type": "markdown",
   "metadata": {},
   "source": [
    "#### 2.2.2: Frequency Analysis of Hybrid Images and their Inputs"
   ]
  },
  {
   "cell_type": "code",
   "execution_count": 87,
   "metadata": {},
   "outputs": [
    {
     "name": "stdout",
     "output_type": "stream",
     "text": [
      "[[[ 62  57  43 255]\n",
      "  [ 62  57  41 255]\n",
      "  [ 69  63  47 255]\n",
      "  ...\n",
      "  [147 138 117 255]\n",
      "  [147 137 116 255]\n",
      "  [146 137 112 255]]\n",
      "\n",
      " [[ 62  57  43 255]\n",
      "  [ 63  59  42 255]\n",
      "  [ 68  64  45 255]\n",
      "  ...\n",
      "  [148 138 116 255]\n",
      "  [148 138 117 255]\n",
      "  [145 135 112 255]]\n",
      "\n",
      " [[ 61  56  42 255]\n",
      "  [ 64  60  42 255]\n",
      "  [ 69  65  46 255]\n",
      "  ...\n",
      "  [146 138 116 255]\n",
      "  [149 139 118 255]\n",
      "  [143 135 113 255]]\n",
      "\n",
      " ...\n",
      "\n",
      " [[ 59  53  38 255]\n",
      "  [ 63  56  42 255]\n",
      "  [ 65  57  43 255]\n",
      "  ...\n",
      "  [ 30  36  37 255]\n",
      "  [ 23  29  30 255]\n",
      "  [ 22  27  29 255]]\n",
      "\n",
      " [[ 59  53  39 255]\n",
      "  [ 65  57  43 255]\n",
      "  [ 65  58  43 255]\n",
      "  ...\n",
      "  [ 31  37  38 255]\n",
      "  [ 20  25  27 255]\n",
      "  [ 20  25  26 255]]\n",
      "\n",
      " [[ 55  49  36 255]\n",
      "  [ 63  56  42 255]\n",
      "  [ 65  56  41 255]\n",
      "  ...\n",
      "  [ 19  25  24 255]\n",
      "  [ 19  24  25 255]\n",
      "  [ 26  30  31 255]]]\n",
      "[[[ 12  13  10 255]\n",
      "  [ 13  14  10 255]\n",
      "  [ 14  14  10 255]\n",
      "  ...\n",
      "  [  0   0   0 255]\n",
      "  [  0   0   0 255]\n",
      "  [  0   0   0 255]]\n",
      "\n",
      " [[ 13  15  10 255]\n",
      "  [ 14  15  11 255]\n",
      "  [ 14  16  11 255]\n",
      "  ...\n",
      "  [  0   0   0 255]\n",
      "  [  0   0   0 255]\n",
      "  [  0   0   0 255]]\n",
      "\n",
      " [[ 13  14  11 255]\n",
      "  [ 14  16  12 255]\n",
      "  [ 16  17  13 255]\n",
      "  ...\n",
      "  [  1   1   0 255]\n",
      "  [  0   0   0 255]\n",
      "  [  0   0   1 255]]\n",
      "\n",
      " ...\n",
      "\n",
      " [[ 27  30  32 255]\n",
      "  [ 28  30  31 255]\n",
      "  [ 30  31  31 255]\n",
      "  ...\n",
      "  [ 30  32  52 255]\n",
      "  [ 29  32  52 255]\n",
      "  [ 29  32  51 255]]\n",
      "\n",
      " [[ 29  32  32 255]\n",
      "  [ 27  31  32 255]\n",
      "  [ 29  30  33 255]\n",
      "  ...\n",
      "  [ 29  32  53 255]\n",
      "  [ 29  32  52 255]\n",
      "  [ 28  32  51 255]]\n",
      "\n",
      " [[ 28  31  32 255]\n",
      "  [ 29  31  32 255]\n",
      "  [ 29  29  31 255]\n",
      "  ...\n",
      "  [ 27  30  51 255]\n",
      "  [ 29  32  52 255]\n",
      "  [ 28  33  52 255]]]\n",
      "[[[0.         0.         0.         0.        ]\n",
      "  [0.         0.         0.         0.        ]\n",
      "  [0.         0.         0.         0.        ]\n",
      "  ...\n",
      "  [0.         0.         0.         0.        ]\n",
      "  [0.         0.         0.         0.        ]\n",
      "  [0.         0.         0.         0.        ]]\n",
      "\n",
      " [[0.         0.         0.         0.        ]\n",
      "  [0.         0.         0.         0.        ]\n",
      "  [0.         0.         0.         0.        ]\n",
      "  ...\n",
      "  [0.         0.         0.         0.        ]\n",
      "  [0.         0.         0.         0.        ]\n",
      "  [0.         0.         0.         0.        ]]\n",
      "\n",
      " [[0.         0.         0.         0.        ]\n",
      "  [0.         0.         0.         0.        ]\n",
      "  [0.         0.         0.         0.        ]\n",
      "  ...\n",
      "  [0.         0.         0.         0.        ]\n",
      "  [0.         0.         0.         0.        ]\n",
      "  [0.         0.         0.         0.        ]]\n",
      "\n",
      " ...\n",
      "\n",
      " [[0.03837758 0.03671994 0.02887879 0.        ]\n",
      "  [0.04207261 0.04057671 0.03398154 0.        ]\n",
      "  [0.03718103 0.03586754 0.03054269 0.        ]\n",
      "  ...\n",
      "  [0.         0.         0.         0.        ]\n",
      "  [0.         0.         0.         0.        ]\n",
      "  [0.         0.         0.         0.        ]]\n",
      "\n",
      " [[0.03653318 0.03502635 0.02775568 0.        ]\n",
      "  [0.03738984 0.03603124 0.03003122 0.        ]\n",
      "  [0.03115323 0.0300522  0.02525247 0.        ]\n",
      "  ...\n",
      "  [0.         0.         0.         0.        ]\n",
      "  [0.         0.         0.         0.        ]\n",
      "  [0.         0.         0.         0.        ]]\n",
      "\n",
      " [[0.03502786 0.03363899 0.02668483 0.        ]\n",
      "  [0.03386397 0.03266642 0.02695624 0.        ]\n",
      "  [0.02672633 0.02574527 0.02135408 0.        ]\n",
      "  ...\n",
      "  [0.         0.         0.         0.        ]\n",
      "  [0.         0.         0.         0.        ]\n",
      "  [0.         0.         0.         0.        ]]]\n",
      "[[[-0.00169221 -0.00183877 -0.00141849  0.        ]\n",
      "  [-0.00155244 -0.00169433 -0.00134856  0.        ]\n",
      "  [-0.00146309 -0.00159487 -0.00116647  0.        ]\n",
      "  ...\n",
      "  [ 0.          0.          0.          0.        ]\n",
      "  [ 0.          0.          0.          0.        ]\n",
      "  [ 0.          0.          0.          0.        ]]\n",
      "\n",
      " [[-0.00194553 -0.00208254 -0.00166532  0.        ]\n",
      "  [-0.00156806 -0.00174203 -0.00137274  0.        ]\n",
      "  [-0.0014738  -0.00160029 -0.00117533  0.        ]\n",
      "  ...\n",
      "  [ 0.          0.          0.          0.        ]\n",
      "  [ 0.          0.          0.          0.        ]\n",
      "  [ 0.          0.          0.          0.        ]]\n",
      "\n",
      " [[-0.00288683 -0.00306379 -0.00262614  0.        ]\n",
      "  [-0.00197467 -0.00215037 -0.0017551   0.        ]\n",
      "  [-0.00163144 -0.00180292 -0.00135787  0.        ]\n",
      "  ...\n",
      "  [ 0.          0.          0.          0.        ]\n",
      "  [ 0.          0.          0.          0.        ]\n",
      "  [ 0.          0.          0.          0.        ]]\n",
      "\n",
      " ...\n",
      "\n",
      " [[ 0.03884794  0.04412858  0.04213649  0.5       ]\n",
      "  [ 0.04767666  0.05226094  0.051177    0.5       ]\n",
      "  [ 0.05624411  0.05826883  0.05636498  0.5       ]\n",
      "  ...\n",
      "  [ 0.          0.          0.          0.        ]\n",
      "  [ 0.          0.          0.          0.        ]\n",
      "  [ 0.          0.          0.          0.        ]]\n",
      "\n",
      " [[ 0.05087502  0.05147276  0.05345677  0.5       ]\n",
      "  [ 0.05300332  0.05561891  0.05638074  0.5       ]\n",
      "  [ 0.05242632  0.05833003  0.0536678   0.5       ]\n",
      "  ...\n",
      "  [ 0.          0.          0.          0.        ]\n",
      "  [ 0.          0.          0.          0.        ]\n",
      "  [ 0.          0.          0.          0.        ]]\n",
      "\n",
      " [[ 0.05395229  0.057454    0.05526665  0.5       ]\n",
      "  [ 0.0561729   0.061342    0.05725123  0.5       ]\n",
      "  [ 0.05698091  0.05981244  0.05694522  0.5       ]\n",
      "  ...\n",
      "  [ 0.          0.          0.          0.        ]\n",
      "  [ 0.          0.          0.          0.        ]\n",
      "  [ 0.          0.          0.          0.        ]]]\n",
      "[[[0.         0.         0.         0.        ]\n",
      "  [0.         0.         0.         0.        ]\n",
      "  [0.         0.         0.         0.        ]\n",
      "  ...\n",
      "  [0.         0.         0.         0.        ]\n",
      "  [0.         0.         0.         0.        ]\n",
      "  [0.         0.         0.         0.        ]]\n",
      "\n",
      " [[0.         0.         0.         0.        ]\n",
      "  [0.         0.         0.         0.        ]\n",
      "  [0.         0.         0.         0.        ]\n",
      "  ...\n",
      "  [0.         0.         0.         0.        ]\n",
      "  [0.         0.         0.         0.        ]\n",
      "  [0.         0.         0.         0.        ]]\n",
      "\n",
      " [[0.         0.         0.         0.        ]\n",
      "  [0.         0.         0.         0.        ]\n",
      "  [0.         0.         0.         0.        ]\n",
      "  ...\n",
      "  [0.         0.         0.         0.        ]\n",
      "  [0.         0.         0.         0.        ]\n",
      "  [0.         0.         0.         0.        ]]\n",
      "\n",
      " ...\n",
      "\n",
      " [[0.07722552 0.08084852 0.07101528 0.5       ]\n",
      "  [0.08974927 0.09283765 0.08515854 0.5       ]\n",
      "  [0.09342515 0.09413637 0.08690767 0.5       ]\n",
      "  ...\n",
      "  [0.         0.         0.         0.        ]\n",
      "  [0.         0.         0.         0.        ]\n",
      "  [0.         0.         0.         0.        ]]\n",
      "\n",
      " [[0.0874082  0.08649911 0.08121245 0.5       ]\n",
      "  [0.09039316 0.09165015 0.08641196 0.5       ]\n",
      "  [0.08357956 0.08838223 0.07892027 0.5       ]\n",
      "  ...\n",
      "  [0.         0.         0.         0.        ]\n",
      "  [0.         0.         0.         0.        ]\n",
      "  [0.         0.         0.         0.        ]]\n",
      "\n",
      " [[0.08898015 0.091093   0.08195148 0.5       ]\n",
      "  [0.09003688 0.09400842 0.08420746 0.5       ]\n",
      "  [0.08370724 0.08555771 0.0782993  0.5       ]\n",
      "  ...\n",
      "  [0.         0.         0.         0.        ]\n",
      "  [0.         0.         0.         0.        ]\n",
      "  [0.         0.         0.         0.        ]]]\n"
     ]
    }
   ],
   "source": [
    "fig, axes = plt.subplots(1, 5, figsize=(8, 6))\n",
    "i = 0\n",
    "\n",
    "for k, img in images_for_fft.items():\n",
    "\n",
    "    gray_image = cv2.cvtColor(img.astype(np.float32), cv2.COLOR_RGB2GRAY)\n",
    "\n",
    "    f_transform = np.fft.fft2(gray_image)\n",
    "    f_shift = np.fft.fftshift(f_transform)\n",
    "\n",
    "    magnitude_spectrum = np.abs(f_shift)\n",
    "\n",
    "    log_magnitude = np.log(1 + magnitude_spectrum)\n",
    "\n",
    "    axes[i].imshow(log_magnitude)\n",
    "    axes[i].axis('off')\n",
    "    axes[i].set_title(k)\n",
    "\n",
    "    i += 1\n",
    "\n",
    "plt.tight_layout()\n",
    "plt.show()\n"
   ]
  },
  {
   "cell_type": "markdown",
   "metadata": {},
   "source": [
    "## Part 2.3: Gaussian and Laplacian Stacks"
   ]
  },
  {
   "cell_type": "code",
   "execution_count": 65,
   "metadata": {},
   "outputs": [],
   "source": [
    "apple, orange = skio.imread(\"../media/blending/apple.jpeg\").astype(np.float32), skio.imread(\"../media/blending/orange.jpeg\").astype(np.float32)"
   ]
  },
  {
   "cell_type": "code",
   "execution_count": 93,
   "metadata": {},
   "outputs": [],
   "source": [
    "def blend_two_images(pic1, pic2, ksize=25, sigma=15, mask=np.tile(np.linspace(1, 0, 300), (300, 1))):\n",
    "    imA_gaussian_stack, imB_gaussian_stack = [pic1], [pic2]\n",
    "    gaussian_for_blurring = cv2.getGaussianKernel(ksize=ksize, sigma=sigma)\n",
    "\n",
    "    gaussian_for_blurring = np.dot(gaussian_for_blurring, gaussian_for_blurring.T)\n",
    "\n",
    "    for i in range(5): # number of iterations -- change as desired\n",
    "        imA_gaussian_stack.append(manipulate_image(imA_gaussian_stack[-1], operation=\"blur\", gaussian=gaussian_for_blurring))\n",
    "        imB_gaussian_stack.append(manipulate_image(imB_gaussian_stack[-1], operation=\"blur\", gaussian=gaussian_for_blurring))\n",
    "\n",
    "    laplacian_A, laplacian_B = [], []\n",
    "\n",
    "    not_normalized_laplacian_A, not_normalized_laplacian_B = [], []\n",
    "\n",
    "    mask_gaussian = [mask]\n",
    "\n",
    "    for k in range(len(imA_gaussian_stack)):\n",
    "        if k == len(imA_gaussian_stack) - 1:\n",
    "            break\n",
    "        \n",
    "        # normalize\n",
    "\n",
    "        difference_A = imA_gaussian_stack[k] - imA_gaussian_stack[k + 1]\n",
    "        difference_B = imB_gaussian_stack[k] - imB_gaussian_stack[k + 1]\n",
    "        \n",
    "        normalized_difference_A = difference_A - np.min(difference_A)\n",
    "        normalized_difference_A = normalized_difference_A / np.max(normalized_difference_A)\n",
    "\n",
    "        normalized_difference_B = difference_B - np.min(difference_B)\n",
    "        normalized_difference_B = normalized_difference_B / np.max(normalized_difference_B)\n",
    "\n",
    "        laplacian_A.append(normalized_difference_A)\n",
    "        laplacian_B.append(normalized_difference_B)\n",
    "\n",
    "        not_normalized_laplacian_A.append(difference_A)\n",
    "        not_normalized_laplacian_B.append(difference_B)\n",
    "\n",
    "        # run gaussian blur on mask\n",
    "\n",
    "        mask_gaussian.append(convolve2d(mask_gaussian[-1], gaussian_for_blurring, mode=\"same\", boundary=\"symm\"))\n",
    "\n",
    "\n",
    "    laplacian_blend = []\n",
    "\n",
    "    for A, B, C in zip(not_normalized_laplacian_A, not_normalized_laplacian_B, mask_gaussian):\n",
    "\n",
    "        blend = np.zeros_like(not_normalized_laplacian_A[0])\n",
    "\n",
    "        for channel in range(3):\n",
    "            color_imA, color_imB = A[:, :, channel], B[:, :, channel]\n",
    "\n",
    "            blend[:, :, channel] = (C * color_imA) + ((1 - C) * color_imB)\n",
    "\n",
    "        laplacian_blend.append(blend)\n",
    "\n",
    "    # handle extra level of mask blur stack\n",
    "\n",
    "    coarsest_level = np.zeros_like(imA_gaussian_stack[-1])\n",
    "\n",
    "    last_gaussian_A, last_gaussian_B = imA_gaussian_stack[-1], imB_gaussian_stack[-1]\n",
    "\n",
    "    for channel in range(3):\n",
    "        color_imA, color_imB = last_gaussian_A[:, :, channel], last_gaussian_B[:, :, channel]\n",
    "        coarsest_level[:, :, channel] = (mask_gaussian[-1] * color_imA) + ((1 - mask_gaussian[-1]) * color_imB)\n",
    "\n",
    "    laplacian_blend.append(coarsest_level)\n",
    "\n",
    "    final_blend = np.zeros_like(laplacian_blend[0])\n",
    "\n",
    "    for i in range(len(laplacian_blend)):\n",
    "        final_blend += laplacian_blend[i]\n",
    "\n",
    "    final_blend = final_blend - np.min(final_blend)\n",
    "    final_blend = final_blend / np.max(final_blend)\n",
    "\n",
    "    return (laplacian_A, laplacian_B, final_blend)"
   ]
  },
  {
   "cell_type": "code",
   "execution_count": 95,
   "metadata": {},
   "outputs": [],
   "source": [
    "regular_mask = np.tile(np.linspace(1, 0, 300), (300, 1))\n",
    "binary_mask = np.where(regular_mask < 0.5, 0, 1)\n",
    "\n",
    "apple_laplacian, orange_laplacian, apple_orange_blended = blend_two_images(apple, orange, mask=binary_mask)\n",
    "\n",
    "plt.imshow(apple_orange_blended)\n",
    "plt.axis(\"off\")\n",
    "plt.show()"
   ]
  },
  {
   "cell_type": "code",
   "execution_count": 92,
   "metadata": {},
   "outputs": [],
   "source": [
    "bhatia, praneet = skio.imread(\"../media/hybrid/bhatia.jpg\"), skio.imread(\"../media/hybrid/praneet.jpg\")\n",
    "bhatia, praneet = sk.transform.resize(bhatia, (300, 300), anti_aliasing=True), sk.transform.resize(praneet, (300, 300), anti_aliasing=True)"
   ]
  },
  {
   "cell_type": "code",
   "execution_count": 96,
   "metadata": {},
   "outputs": [],
   "source": [
    "bhatia_laplacian, praneet_laplacian, bhatia_praneet_blended = blend_two_images(bhatia, praneet, ksize=50, sigma=20, mask=binary_mask)\n",
    "\n",
    "plt.imshow(bhatia_praneet_blended)\n",
    "plt.axis(\"off\")\n",
    "plt.show()"
   ]
  },
  {
   "cell_type": "code",
   "execution_count": 90,
   "metadata": {},
   "outputs": [],
   "source": [
    "height, width, radius = 300, 300, 100\n",
    "y, x = np.ogrid[:height, :width]\n",
    "\n",
    "center_x, center_y = width // 2, height // 2\n",
    "distance_from_center = np.sqrt((x - center_x) ** 2 + (y - center_y) ** 2)\n",
    "\n",
    "circle_mask = np.where(distance_from_center >= radius, 0, 1)"
   ]
  },
  {
   "cell_type": "code",
   "execution_count": 97,
   "metadata": {},
   "outputs": [],
   "source": [
    "alex, shadt = skio.imread(\"../media/blending/alex.jpg\"), skio.imread(\"../media/blending/shadt.jpg\")\n",
    "alex, shadt = sk.transform.resize(alex, (300, 300), anti_aliasing=True), sk.transform.resize(shadt, (300, 300), anti_aliasing=True)"
   ]
  },
  {
   "cell_type": "code",
   "execution_count": 101,
   "metadata": {},
   "outputs": [
    {
     "ename": "",
     "evalue": "",
     "output_type": "error",
     "traceback": [
      "\u001b[1;31mThe Kernel crashed while executing code in the current cell or a previous cell. \n",
      "\u001b[1;31mPlease review the code in the cell(s) to identify a possible cause of the failure. \n",
      "\u001b[1;31mClick <a href='https://aka.ms/vscodeJupyterKernelCrash'>here</a> for more info. \n",
      "\u001b[1;31mView Jupyter <a href='command:jupyter.viewOutput'>log</a> for further details."
     ]
    }
   ],
   "source": [
    "alex_laplacian, shadt_laplacian, alex_shadt_blended = blend_two_images(alex, shadt, ksize=30, sigma=20, mask=circle_mask)\n",
    "\n",
    "plt.imshow(alex_shadt_blended)\n",
    "plt.axis(\"off\")\n",
    "plt.show()"
   ]
  },
  {
   "cell_type": "markdown",
   "metadata": {},
   "source": [
    "#### Display Laplacian Stacks"
   ]
  },
  {
   "cell_type": "code",
   "execution_count": 199,
   "metadata": {},
   "outputs": [],
   "source": [
    "fig, axes = plt. subplots(1, 5, figsize=(8, 6))\n",
    "\n",
    "for i, laplacian in enumerate(apple_laplacian):\n",
    "    axes[i].imshow(laplacian)\n",
    "    axes[i].axis('off')\n",
    "    axes[i].set_title(f\"Laplacian #{i}\")\n",
    "\n",
    "plt.tight_layout()\n",
    "plt.show()"
   ]
  },
  {
   "cell_type": "code",
   "execution_count": 200,
   "metadata": {},
   "outputs": [],
   "source": [
    "fig, axes = plt. subplots(1, 5, figsize=(8, 6))\n",
    "\n",
    "for i, laplacian in enumerate(orange_laplacian):\n",
    "    axes[i].imshow(laplacian)\n",
    "    axes[i].axis('off')\n",
    "    axes[i].set_title(f\"Laplacian #{i}\")\n",
    "\n",
    "plt.tight_layout()\n",
    "plt.show()"
   ]
  }
 ],
 "metadata": {
  "kernelspec": {
   "display_name": "Python 3",
   "language": "python",
   "name": "python3"
  },
  "language_info": {
   "codemirror_mode": {
    "name": "ipython",
    "version": 3
   },
   "file_extension": ".py",
   "mimetype": "text/x-python",
   "name": "python",
   "nbconvert_exporter": "python",
   "pygments_lexer": "ipython3",
   "version": "3.10.10"
  }
 },
 "nbformat": 4,
 "nbformat_minor": 2
}
